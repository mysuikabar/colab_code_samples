{
  "nbformat": 4,
  "nbformat_minor": 0,
  "metadata": {
    "colab": {
      "provenance": [],
      "mount_file_id": "1oMQ9O7hAwJtHWIsBeuORxAmycvVp9mL0",
      "authorship_tag": "ABX9TyN7zldIAzWUAu/n1WkDzbHV",
      "include_colab_link": true
    },
    "kernelspec": {
      "name": "python3",
      "display_name": "Python 3"
    },
    "language_info": {
      "name": "python"
    }
  },
  "cells": [
    {
      "cell_type": "markdown",
      "metadata": {
        "id": "view-in-github",
        "colab_type": "text"
      },
      "source": [
        "<a href=\"https://colab.research.google.com/github/mysuikabar/colab_code_samples/blob/feature/langchain/async_api.ipynb\" target=\"_parent\"><img src=\"https://colab.research.google.com/assets/colab-badge.svg\" alt=\"Open In Colab\"/></a>"
      ]
    },
    {
      "cell_type": "markdown",
      "source": [
        "## Async API\n",
        "Async APIを利用すると複数のリクエストを非同期的に処理できるので高速。非同期処理に対応したメソッドを呼ぶことで、非同期的な処理が実現できる。\n",
        "- Async APIのガイド\n",
        "  - https://python.langchain.com/docs/modules/chains/how_to/async_chain\n",
        "- ChatOpenAIのAPI\n",
        "  - https://api.python.langchain.com/en/latest/chat_models/langchain.chat_models.openai.ChatOpenAI.html"
      ],
      "metadata": {
        "id": "d5Bq42QHTtvQ"
      }
    },
    {
      "cell_type": "code",
      "execution_count": 1,
      "metadata": {
        "id": "ipHKUXvyv-ob"
      },
      "outputs": [],
      "source": [
        "!pip install python-dotenv openai langchain > /dev/null"
      ]
    },
    {
      "cell_type": "code",
      "source": [
        "import asyncio\n",
        "import os\n",
        "from datetime import datetime\n",
        "\n",
        "import openai\n",
        "from dotenv import load_dotenv\n",
        "from langchain.chat_models import ChatOpenAI\n",
        "from langchain.prompts.chat import ChatPromptTemplate"
      ],
      "metadata": {
        "id": "mnqtgrpwwj9n"
      },
      "execution_count": 2,
      "outputs": []
    },
    {
      "cell_type": "code",
      "source": [
        "from google.colab import drive\n",
        "drive.mount('/content/drive')"
      ],
      "metadata": {
        "colab": {
          "base_uri": "https://localhost:8080/"
        },
        "id": "6IEIt8dBS8uL",
        "outputId": "093adfb8-9623-4ae0-e773-1f6387db99f4"
      },
      "execution_count": 3,
      "outputs": [
        {
          "output_type": "stream",
          "name": "stdout",
          "text": [
            "Drive already mounted at /content/drive; to attempt to forcibly remount, call drive.mount(\"/content/drive\", force_remount=True).\n"
          ]
        }
      ]
    },
    {
      "cell_type": "code",
      "source": [
        "ENV_PATH = \"/content/drive/MyDrive/study/llm/.env\"\n",
        "load_dotenv(ENV_PATH)\n",
        "openai.api_key = os.environ[\"OPENAI_API_KEY\"]"
      ],
      "metadata": {
        "id": "x1pQNOZvwnyq"
      },
      "execution_count": 4,
      "outputs": []
    },
    {
      "cell_type": "code",
      "source": [
        "# プロンプト・LLMオブジェクトを定義\n",
        "countries = [\"日本\", \"フランス\", \"スイス\", \"インド\", \"ブラジル\", \"ドイツ\", \"中国\", \"フィンランド\", \"タイ\", \"カンボジア\"]\n",
        "\n",
        "prompt = \"{country}の首都を教えてください\"\n",
        "template = ChatPromptTemplate.from_messages([\n",
        "    (\"human\", prompt)\n",
        "])\n",
        "\n",
        "chat = ChatOpenAI()"
      ],
      "metadata": {
        "id": "mm5xwKpXdVkK"
      },
      "execution_count": 5,
      "outputs": []
    },
    {
      "cell_type": "markdown",
      "source": [
        "## 同期処理"
      ],
      "metadata": {
        "id": "B13r8fmDlyLI"
      }
    },
    {
      "cell_type": "code",
      "source": [
        "def get_responses():\n",
        "    \"\"\"同期的にリクエストを処理する\"\"\"\n",
        "    responses = []\n",
        "    for country in countries:\n",
        "        message = template.format_messages(country=country)\n",
        "        responses.append(chat.predict_messages(message))  # 同期的に処理するメソッドを呼ぶ\n",
        "\n",
        "    return responses"
      ],
      "metadata": {
        "id": "0Q2bs8cyiWSD"
      },
      "execution_count": 6,
      "outputs": []
    },
    {
      "cell_type": "code",
      "source": [
        "start = datetime.now()\n",
        "responses = get_responses()\n",
        "end = datetime.now()\n",
        "\n",
        "print(f\"time: {end - start}\")\n",
        "print(responses)"
      ],
      "metadata": {
        "colab": {
          "base_uri": "https://localhost:8080/"
        },
        "id": "ttlC2UO5jERD",
        "outputId": "d5170670-9ebb-47fb-b5de-ef63c76b1aa4"
      },
      "execution_count": 7,
      "outputs": [
        {
          "output_type": "stream",
          "name": "stdout",
          "text": [
            "time: 0:00:09.259118\n",
            "[AIMessage(content='日本の首都は東京です。'), AIMessage(content='フランスの首都はパリです。'), AIMessage(content='スイスの首都はベルンです。'), AIMessage(content='インドの首都はニューデリーです。'), AIMessage(content='ブラジルの首都はブラジリアです。'), AIMessage(content='ドイツの首都はベルリンです。'), AIMessage(content='中国の首都は北京です。'), AIMessage(content='フィンランドの首都はヘルシンキです。'), AIMessage(content='タイの首都はバンコクです。'), AIMessage(content='カンボジアの首都は、プノンペンです。')]\n"
          ]
        }
      ]
    },
    {
      "cell_type": "markdown",
      "source": [
        "## 非同期処理"
      ],
      "metadata": {
        "id": "-Bho8D90l1CH"
      }
    },
    {
      "cell_type": "code",
      "source": [
        "async def async_get_response():\n",
        "    \"\"\"非同期的にリクエストを処理する\"\"\"\n",
        "    # コルーチンのリストを作成\n",
        "    coroutines = []\n",
        "    for country in countries:\n",
        "        message = template.format_messages(country=country)\n",
        "        coroutines.append(chat.apredict_messages(message))  # 非同期的に処理するメソッドを呼ぶ\n",
        "\n",
        "    # 非同期的に実行\n",
        "    responses = await asyncio.gather(*coroutines)\n",
        "\n",
        "    return responses"
      ],
      "metadata": {
        "id": "0baeXhwJyP1C"
      },
      "execution_count": 8,
      "outputs": []
    },
    {
      "cell_type": "code",
      "source": [
        "start = datetime.now()\n",
        "responses = await async_get_response()\n",
        "end = datetime.now()\n",
        "\n",
        "print(f\"time: {end - start}\")\n",
        "print(responses)"
      ],
      "metadata": {
        "id": "SqSnYeO33F3e",
        "colab": {
          "base_uri": "https://localhost:8080/"
        },
        "outputId": "fa61f5d6-f591-4778-b696-a6b2f16a4fc8"
      },
      "execution_count": 9,
      "outputs": [
        {
          "output_type": "stream",
          "name": "stdout",
          "text": [
            "time: 0:00:01.384343\n",
            "[AIMessage(content='日本の首都は東京です。'), AIMessage(content='フランスの首都はパリです。'), AIMessage(content='スイスの首都はベルンです。'), AIMessage(content='インドの首都はニューデリーです。'), AIMessage(content='ブラジルの首都はブラジリアです。'), AIMessage(content='ドイツの首都はベルリンです。'), AIMessage(content='中国の首都は北京です。'), AIMessage(content='フィンランドの首都はヘルシンキです。'), AIMessage(content='タイの首都はバンコクです。'), AIMessage(content='カンボジアの首都はプノンペンです。')]\n"
          ]
        }
      ]
    },
    {
      "cell_type": "code",
      "source": [],
      "metadata": {
        "id": "vi8OhYt2hppI"
      },
      "execution_count": null,
      "outputs": []
    }
  ]
}