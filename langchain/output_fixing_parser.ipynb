{
  "nbformat": 4,
  "nbformat_minor": 0,
  "metadata": {
    "colab": {
      "provenance": [],
      "mount_file_id": "1oMQ9O7hAwJtHWIsBeuORxAmycvVp9mL0",
      "authorship_tag": "ABX9TyMufNa5xGocG6maIe54bfBN",
      "include_colab_link": true
    },
    "kernelspec": {
      "name": "python3",
      "display_name": "Python 3"
    },
    "language_info": {
      "name": "python"
    }
  },
  "cells": [
    {
      "cell_type": "markdown",
      "metadata": {
        "id": "view-in-github",
        "colab_type": "text"
      },
      "source": [
        "<a href=\"https://colab.research.google.com/github/mysuikabar/colab_code_samples/blob/feature/langchain/output_fixing_parser.ipynb\" target=\"_parent\"><img src=\"https://colab.research.google.com/assets/colab-badge.svg\" alt=\"Open In Colab\"/></a>"
      ]
    },
    {
      "cell_type": "markdown",
      "source": [
        "## Output Parser\n",
        "- Pydantic (JSON) parser\n",
        "  - LLMからの出力をJSON形式で受け取る機能\n",
        "  - https://python.langchain.com/docs/modules/model_io/output_parsers/pydantic\n",
        "- Auto-fixing parser\n",
        "  - 期待したJSON出力が得られない場合、自動でLLMに間違いを修正させる機能\n",
        "  - https://python.langchain.com/docs/modules/model_io/output_parsers/output_fixing_parser"
      ],
      "metadata": {
        "id": "d5Bq42QHTtvQ"
      }
    },
    {
      "cell_type": "code",
      "execution_count": null,
      "metadata": {
        "id": "ipHKUXvyv-ob"
      },
      "outputs": [],
      "source": [
        "!pip install python-dotenv openai langchain > /dev/null"
      ]
    },
    {
      "cell_type": "code",
      "source": [
        "import os\n",
        "from pathlib import Path\n",
        "from pydantic import BaseModel, Field\n",
        "\n",
        "import openai\n",
        "from dotenv import load_dotenv\n",
        "from langchain.chat_models import ChatOpenAI\n",
        "from langchain.output_parsers import OutputFixingParser, PydanticOutputParser\n",
        "from langchain.prompts.chat import ChatPromptTemplate"
      ],
      "metadata": {
        "id": "mnqtgrpwwj9n"
      },
      "execution_count": null,
      "outputs": []
    },
    {
      "cell_type": "code",
      "source": [
        "from google.colab import drive\n",
        "drive.mount('/content/drive')"
      ],
      "metadata": {
        "colab": {
          "base_uri": "https://localhost:8080/"
        },
        "id": "6IEIt8dBS8uL",
        "outputId": "15b84f1d-eae6-41b2-9136-72e1991aa250"
      },
      "execution_count": null,
      "outputs": [
        {
          "output_type": "stream",
          "name": "stdout",
          "text": [
            "Drive already mounted at /content/drive; to attempt to forcibly remount, call drive.mount(\"/content/drive\", force_remount=True).\n"
          ]
        }
      ]
    },
    {
      "cell_type": "code",
      "source": [
        "ENV_PATH = \"/content/drive/MyDrive/study/llm/.env\"\n",
        "load_dotenv(ENV_PATH)\n",
        "openai.api_key = os.environ[\"OPENAI_API_KEY\"]"
      ],
      "metadata": {
        "id": "x1pQNOZvwnyq"
      },
      "execution_count": null,
      "outputs": []
    },
    {
      "cell_type": "code",
      "source": [
        "# JSONオブジェクトのスキーマを定義\n",
        "class Dish(BaseModel):\n",
        "    name: str = Field(description=\"Name of dish.\")\n",
        "    ingredients: list[str] = Field(description=\"Ingredients needed to prepare the dish.\")\n",
        "\n",
        "# パーサーを定義\n",
        "parser = PydanticOutputParser(pydantic_object=Dish)\n",
        "fixing_parser = OutputFixingParser.from_llm(parser=parser, llm=ChatOpenAI())"
      ],
      "metadata": {
        "id": "0baeXhwJyP1C"
      },
      "execution_count": null,
      "outputs": []
    },
    {
      "cell_type": "code",
      "source": [
        "# プロンプトを作成\n",
        "prompt = \"\"\"List the ingredients needed to make an {dish}.\n",
        "Answers must be given in Japanese.\n",
        "{format_instruction}\n",
        "\"\"\"\n",
        "\n",
        "prompt_template = ChatPromptTemplate.from_messages(\n",
        "    [(\"human\", prompt)]\n",
        ")\n",
        "message = prompt_template.format_messages(\n",
        "    dish=\"麻婆豆腐\",\n",
        "    format_instruction=parser.get_format_instructions(),\n",
        ")"
      ],
      "metadata": {
        "id": "SqSnYeO33F3e"
      },
      "execution_count": null,
      "outputs": []
    },
    {
      "cell_type": "code",
      "source": [
        "# LLMに投げる\n",
        "chat = ChatOpenAI()\n",
        "response = chat(message)\n",
        "\n",
        "# 内容をパース\n",
        "fixing_parser.parse(response.content)"
      ],
      "metadata": {
        "colab": {
          "base_uri": "https://localhost:8080/"
        },
        "id": "QQfrOrh44PTO",
        "outputId": "7ffc68f4-9b39-4844-d72d-a0dd00eaeba7"
      },
      "execution_count": null,
      "outputs": [
        {
          "output_type": "execute_result",
          "data": {
            "text/plain": [
              "Dish(name='麻婆豆腐', ingredients=['豆腐', '豚ひき肉', '豆板醤', '醤油', '砂糖', '酒', 'ラー油', 'ニンニク', 'しょうが', '水溶き片栗粉', '水', 'ごま油'])"
            ]
          },
          "metadata": {},
          "execution_count": 16
        }
      ]
    },
    {
      "cell_type": "code",
      "source": [],
      "metadata": {
        "id": "tIIY7NqJ8j6Y"
      },
      "execution_count": null,
      "outputs": []
    }
  ]
}